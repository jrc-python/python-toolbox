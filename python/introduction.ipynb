{
 "cells": [
  {
   "cell_type": "markdown",
   "id": "eaf437ed",
   "metadata": {},
   "source": [
    "Variables and types"
   ]
  },
  {
   "cell_type": "code",
   "execution_count": 9,
   "id": "d8851905",
   "metadata": {},
   "outputs": [
    {
     "data": {
      "text/plain": [
       "[float, int, str, bool]"
      ]
     },
     "execution_count": 9,
     "metadata": {},
     "output_type": "execute_result"
    }
   ],
   "source": [
    "# float - real numbers\n",
    "my_float = 1.8\n",
    "\n",
    "# int - integer numbers\n",
    "my_int = 3\n",
    "\n",
    "# str - string (text)\n",
    "my_str = 'A text'\n",
    "\n",
    "# bool - True or False\n",
    "my_bool = True\n",
    "\n",
    "types = [type(my_float), type(my_int), type(my_str), type(my_bool)]\n",
    "types"
   ]
  },
  {
   "cell_type": "code",
   "execution_count": null,
   "id": "4455c94a",
   "metadata": {},
   "outputs": [],
   "source": []
  }
 ],
 "metadata": {
  "kernelspec": {
   "display_name": "Python 3 (ipykernel)",
   "language": "python",
   "name": "python3"
  },
  "language_info": {
   "codemirror_mode": {
    "name": "ipython",
    "version": 3
   },
   "file_extension": ".py",
   "mimetype": "text/x-python",
   "name": "python",
   "nbconvert_exporter": "python",
   "pygments_lexer": "ipython3",
   "version": "3.10.8"
  }
 },
 "nbformat": 4,
 "nbformat_minor": 5
}
