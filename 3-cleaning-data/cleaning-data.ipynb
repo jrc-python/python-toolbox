{
 "cells": [
  {
   "cell_type": "markdown",
   "metadata": {},
   "source": [
    "# Cleaning data in Python\n",
    "\n",
    "## Data type constraints"
   ]
  },
  {
   "cell_type": "markdown",
   "metadata": {},
   "source": [
    "Numeric data or other type?"
   ]
  },
  {
   "cell_type": "code",
   "execution_count": 76,
   "metadata": {},
   "outputs": [
    {
     "name": "stdout",
     "output_type": "stream",
     "text": [
      "<class 'pandas.core.frame.DataFrame'>\n",
      "RangeIndex: 25760 entries, 0 to 25759\n",
      "Data columns (total 10 columns):\n",
      " #   Column           Non-Null Count  Dtype \n",
      "---  ------           --------------  ----- \n",
      " 0   ride_id          25760 non-null  int64 \n",
      " 1   duration         25760 non-null  object\n",
      " 2   station_A_id     25760 non-null  int64 \n",
      " 3   station_A_name   25760 non-null  object\n",
      " 4   station_B_id     25760 non-null  int64 \n",
      " 5   station_B_name   25760 non-null  object\n",
      " 6   bike_id          25760 non-null  int64 \n",
      " 7   user_type        25760 non-null  int64 \n",
      " 8   user_birth_year  25760 non-null  int64 \n",
      " 9   user_gender      25760 non-null  object\n",
      "dtypes: int64(6), object(4)\n",
      "memory usage: 2.0+ MB\n",
      "None\n",
      "count    25760.000000\n",
      "mean         2.008385\n",
      "std          0.704541\n",
      "min          1.000000\n",
      "25%          2.000000\n",
      "50%          2.000000\n",
      "75%          3.000000\n",
      "max          3.000000\n",
      "Name: user_type, dtype: float64\n"
     ]
    }
   ],
   "source": [
    "import pandas as pd\n",
    "\n",
    "ride_sharing = pd.read_csv('files/ride_sharing_original.csv')\n",
    "\n",
    "print(ride_sharing.info())\n",
    "print(ride_sharing['user_type'].describe())"
   ]
  },
  {
   "cell_type": "code",
   "execution_count": 77,
   "metadata": {},
   "outputs": [
    {
     "data": {
      "text/plain": [
       "7 minutes      2322\n",
       "8 minutes      2234\n",
       "9 minutes      2096\n",
       "6 minutes      2091\n",
       "5 minutes      1998\n",
       "               ... \n",
       "100 minutes       1\n",
       "137 minutes       1\n",
       "155 minutes       1\n",
       "193 minutes       1\n",
       "891 minutes       1\n",
       "Name: duration, Length: 172, dtype: int64"
      ]
     },
     "execution_count": 77,
     "metadata": {},
     "output_type": "execute_result"
    }
   ],
   "source": [
    "ride_sharing['duration'].value_counts()"
   ]
  },
  {
   "cell_type": "markdown",
   "metadata": {},
   "source": [
    "Duration is a string with \"minutes\" at the end.\n",
    "\n",
    "We need to convert it to a numeric type."
   ]
  },
  {
   "cell_type": "code",
   "execution_count": 79,
   "metadata": {},
   "outputs": [
    {
     "name": "stdout",
     "output_type": "stream",
     "text": [
      "         duration  duration_time\n",
      "0      12 minutes             12\n",
      "1      24 minutes             24\n",
      "2       8 minutes              8\n",
      "3       4 minutes              4\n",
      "4      11 minutes             11\n",
      "...           ...            ...\n",
      "25755  11 minutes             11\n",
      "25756  10 minutes             10\n",
      "25757  14 minutes             14\n",
      "25758  14 minutes             14\n",
      "25759  29 minutes             29\n",
      "\n",
      "[25760 rows x 2 columns]\n",
      "11.389052795031056\n"
     ]
    }
   ],
   "source": [
    "# Strip duration of minutes\n",
    "ride_sharing['duration_time'] = ride_sharing['duration'].str.strip('minutes')\n",
    "\n",
    "# Convert duration to integer\n",
    "ride_sharing['duration_time'] = ride_sharing['duration_time'].astype('int')\n",
    "\n",
    "# Write an assert statement making sure of conversion\n",
    "assert ride_sharing['duration_time'].dtype == 'int'\n",
    "\n",
    "# Print formed columns and calculate average ride duration \n",
    "print(ride_sharing[['duration','duration_time']])\n",
    "print(ride_sharing['duration_time'].mean())"
   ]
  },
  {
   "cell_type": "markdown",
   "metadata": {},
   "source": [
    "## Data range constraints"
   ]
  },
  {
   "cell_type": "markdown",
   "metadata": {},
   "source": [
    "**Tire size constraints**\n",
    "\n",
    "Bicycle tire sizes are correctly loaded as a categorical value."
   ]
  },
  {
   "cell_type": "code",
   "execution_count": 82,
   "metadata": {},
   "outputs": [
    {
     "data": {
      "text/plain": [
       "'category'"
      ]
     },
     "execution_count": 82,
     "metadata": {},
     "output_type": "execute_result"
    }
   ],
   "source": [
    "import pandas as pd\n",
    "\n",
    "ride_sharing = pd.read_csv('files/ride_sharing.csv', dtype={'tire_size':'category'})\n",
    "\n",
    "ride_sharing['tire_size'].dtype.name"
   ]
  },
  {
   "cell_type": "markdown",
   "metadata": {},
   "source": [
    "Bicycle tire sizes could be either 26″, 27″ or 29″."
   ]
  },
  {
   "cell_type": "code",
   "execution_count": 83,
   "metadata": {},
   "outputs": [
    {
     "data": {
      "text/plain": [
       "27    8679\n",
       "26    8627\n",
       "29    8454\n",
       "Name: tire_size, dtype: int64"
      ]
     },
     "execution_count": 83,
     "metadata": {},
     "output_type": "execute_result"
    }
   ],
   "source": [
    "ride_sharing['tire_size'].value_counts()"
   ]
  },
  {
   "cell_type": "markdown",
   "metadata": {},
   "source": [
    "The ride sharing provider decided to set the maximum tire size to be 27″.\n",
    "\n",
    "You can make sure the tire_sizes column has the correct range by first converting it to an integer, then setting and testing the new upper limit of 27″ for tire sizes."
   ]
  },
  {
   "cell_type": "code",
   "execution_count": 85,
   "metadata": {},
   "outputs": [
    {
     "name": "stdout",
     "output_type": "stream",
     "text": [
      "category\n",
      "27    17133\n",
      "26     8627\n",
      "Name: tire_size, dtype: int64\n"
     ]
    }
   ],
   "source": [
    "# Convert tire_sizes to integer\n",
    "ride_sharing['tire_size'] = ride_sharing['tire_size'].astype('int')\n",
    "\n",
    "# Set all values above 27 to 27\n",
    "ride_sharing.loc[ride_sharing['tire_size'] > 27, 'tire_size'] = 27\n",
    "\n",
    "# Reconvert tire_sizes back to categorical\n",
    "ride_sharing['tire_size'] = ride_sharing['tire_size'].astype('category')\n",
    "\n",
    "# Print tire size description\n",
    "print(ride_sharing['tire_size'].dtype)\n",
    "\n",
    "# Print tire size value counts\n",
    "print(ride_sharing['tire_size'].value_counts())"
   ]
  },
  {
   "cell_type": "markdown",
   "metadata": {},
   "source": [
    "Let's introduce a random ride date column to the data, and a bug with dates set in the future."
   ]
  },
  {
   "cell_type": "code",
   "execution_count": 86,
   "metadata": {},
   "outputs": [
    {
     "data": {
      "text/plain": [
       "count                            25760\n",
       "mean     2022-06-12 20:38:59.196948992\n",
       "min         2021-11-27 15:39:51.743532\n",
       "25%      2022-03-05 15:39:51.743532032\n",
       "50%      2022-06-12 15:39:51.743532032\n",
       "75%      2022-09-19 15:39:51.743532032\n",
       "max         2022-12-27 15:39:51.743532\n",
       "Name: ride_dt, dtype: object"
      ]
     },
     "execution_count": 86,
     "metadata": {},
     "output_type": "execute_result"
    }
   ],
   "source": [
    "from datetime import datetime\n",
    "from dateutil.relativedelta import relativedelta\n",
    "\n",
    "import pandas as pd\n",
    "import numpy as np\n",
    "\n",
    "ride_sharing = pd.read_csv('files/ride_sharing_original.csv')\n",
    "\n",
    "today = datetime.today()\n",
    "today_last_year = today - relativedelta(years=1)\n",
    "# Introducing a future date bug\n",
    "today_next_month = today + relativedelta(months=1)\n",
    "\n",
    "ride_sharing['ride_dt'] = np.random.choice(pd.date_range(today_last_year, today_next_month), size=ride_sharing.shape[0])\n",
    "ride_sharing['ride_dt'].describe(datetime_is_numeric=True)"
   ]
  },
  {
   "cell_type": "markdown",
   "metadata": {},
   "source": [
    "Let's save the data to a new file."
   ]
  },
  {
   "cell_type": "code",
   "execution_count": 87,
   "metadata": {},
   "outputs": [],
   "source": [
    "ride_sharing.to_csv('files/ride_sharing_bugged.csv', index=False, date_format='%Y-%m-%d')"
   ]
  },
  {
   "cell_type": "markdown",
   "metadata": {},
   "source": [
    "Reloading the dataframe, date is now a string"
   ]
  },
  {
   "cell_type": "code",
   "execution_count": 88,
   "metadata": {},
   "outputs": [
    {
     "data": {
      "text/plain": [
       "count          25760\n",
       "unique           396\n",
       "top       2022-04-12\n",
       "freq              91\n",
       "Name: ride_dt, dtype: object"
      ]
     },
     "execution_count": 88,
     "metadata": {},
     "output_type": "execute_result"
    }
   ],
   "source": [
    "import datetime as dt\n",
    "\n",
    "import pandas as pd\n",
    "import numpy as np\n",
    "\n",
    "ride_sharing = pd.read_csv('files/ride_sharing_bugged.csv')\n",
    "\n",
    "ride_sharing['ride_dt'].describe()"
   ]
  },
  {
   "cell_type": "code",
   "execution_count": 89,
   "metadata": {},
   "outputs": [
    {
     "name": "stdout",
     "output_type": "stream",
     "text": [
      "2022-11-27\n"
     ]
    }
   ],
   "source": [
    "# Convert ride_date to date\n",
    "ride_sharing['ride_dt'] = pd.to_datetime(ride_sharing['ride_dt']).dt.date\n",
    "\n",
    "# Save today's date\n",
    "today = dt.date.today()\n",
    "\n",
    "# Set all in the future to today's date\n",
    "ride_sharing.loc[ride_sharing['ride_dt'] > today, 'ride_dt'] = today\n",
    "\n",
    "# Print maximum of ride_dt column\n",
    "print(ride_sharing['ride_dt'].max())"
   ]
  },
  {
   "cell_type": "markdown",
   "metadata": {},
   "source": [
    "## Uniqueness constraints"
   ]
  },
  {
   "cell_type": "markdown",
   "metadata": {},
   "source": [
    "### Duplicate values\n",
    "\n",
    "* All columns have the same values\n",
    "\n",
    "| first_name | last_name | address | height | weight |\n",
    "| --- | --- | --- | --- | --- |\n",
    "| Justin | Saddlemyer | Boulevard du Jardin Botanique 3, Bruxelles | 193 cm | 87 kg |\n",
    "| Justin | Saddlemyer | Boulevard du Jardin Botanique 3, Bruxelles | 193 cm | 87 kg |"
   ]
  },
  {
   "cell_type": "markdown",
   "metadata": {},
   "source": [
    "* Most columns have the same values\n",
    "\n",
    "| first_name | last_name | address | height | weight |\n",
    "| --- | --- | --- | --- | --- |\n",
    "| Justin | Saddlemyer | Boulevard du Jardin Botanique 3, Bruxelles | 193 cm | 87 kg |\n",
    "| Justin | Saddlemyer | Boulevard du Jardin Botanique 3, Bruxelles | **194 cm** | 87 kg |"
   ]
  },
  {
   "cell_type": "markdown",
   "metadata": {},
   "source": [
    "### Finding duplicates"
   ]
  },
  {
   "cell_type": "code",
   "execution_count": 90,
   "metadata": {},
   "outputs": [
    {
     "name": "stdout",
     "output_type": "stream",
     "text": [
      "     ride_id  duration_time  user_birth_year\n",
      "20        20             16             1998\n",
      "37        20              2             1998\n",
      "55        55             11             1999\n",
      "76        55             11             2099\n",
      "101      101             10             1990\n",
      "126      101             10             1990\n"
     ]
    }
   ],
   "source": [
    "import pandas as pd\n",
    "\n",
    "ride_sharing = pd.read_csv('files/ride_sharing.csv')\n",
    "\n",
    "# Find duplicates\n",
    "duplicates = ride_sharing.duplicated('ride_id', keep = False)\n",
    "\n",
    "# Sort your duplicated rides\n",
    "duplicated_rides = ride_sharing[duplicates].sort_values('ride_id')\n",
    "\n",
    "# Print relevant columns of duplicated_rides\n",
    "print(duplicated_rides[['ride_id','duration_time','user_birth_year']])"
   ]
  },
  {
   "cell_type": "markdown",
   "metadata": {},
   "source": [
    "### Treating duplicates\n",
    "\n",
    "* user_birth_year: set to the minimum value\n",
    "* duration: set to the mean value"
   ]
  },
  {
   "cell_type": "code",
   "execution_count": 93,
   "metadata": {},
   "outputs": [],
   "source": [
    "# Drop complete duplicates from ride_sharing\n",
    "ride_dup = ride_sharing.drop_duplicates()\n",
    "\n",
    "# Create statistics dictionary for aggregation function\n",
    "statistics = {'user_birth_year': 'min', 'duration_time': 'mean'}\n",
    "\n",
    "# Group by ride_id and compute new statistics\n",
    "ride_unique = ride_dup.groupby('ride_id').agg(statistics).reset_index()\n",
    "\n",
    "# Find duplicated values again\n",
    "duplicates = ride_unique.duplicated(subset = 'ride_id', keep = False)\n",
    "duplicated_rides = ride_unique[duplicates == True]\n",
    "\n",
    "# Assert duplicates are processed\n",
    "assert duplicated_rides.shape[0] == 0"
   ]
  },
  {
   "cell_type": "markdown",
   "metadata": {},
   "source": [
    "## Membership constraints"
   ]
  },
  {
   "cell_type": "markdown",
   "metadata": {},
   "source": [
    "### Categories and membership constraints\n",
    "\n",
    "**Predefined finite set of categories**\n",
    "\n",
    "| Type of data | Example values | Numeric representation |\n",
    "| --- | --- | --- |\n",
    "| Marriage Status | unmarried, married * | 0, 1 |\n",
    "| Household Income Category | 0-20K, 20-40K, ... | 0, 1, ... |\n",
    "| Loan Status | default, payed, no_loan | 0, 1, 2 |\n",
    "\n",
    "<sub>* Marriage status can only be unmarried _or_ married</sub>"
   ]
  },
  {
   "cell_type": "markdown",
   "metadata": {},
   "source": [
    "Generating random data for analysis"
   ]
  },
  {
   "cell_type": "code",
   "execution_count": 192,
   "metadata": {},
   "outputs": [],
   "source": [
    "import csv\n",
    "from faker import Faker\n",
    "import datetime\n",
    "\n",
    "def generate_data(records, headers):\n",
    "    # Z+ doesn't exist, we're introducing a bug\n",
    "    blood_types = ['A+', 'A-', 'B+', 'B-', 'AB+', 'AB-', 'O+', 'O-', 'Z+']\n",
    "    marriage_status = ['married', 'unmarried' , 'Married', 'Unmarried', 'MARRIED', 'UNMARRIED', 'M', 'U', ' married', ' unmarried ']\n",
    "\n",
    "    fake = Faker('pt_BR')\n",
    "\n",
    "    with open(\"files/people.csv\", 'wt') as csv_file:\n",
    "        writer = csv.DictWriter(csv_file, fieldnames=headers)\n",
    "        writer.writeheader()\n",
    "        for i in range(records):\n",
    "            writer.writerow(\n",
    "                {\n",
    "                    \"id\" : i,\n",
    "                    \"prefix\" : fake.prefix(),\n",
    "                    \"name\": fake.name(),\n",
    "                    \"birth_date\" : fake.date(pattern=\"%Y-%m-%d\", end_datetime=datetime.date(2000, 1,1)),\n",
    "                    \"blood_type\" : fake.random_element(elements=blood_types),\n",
    "                    \"marriage_status\": fake.random_element(elements=marriage_status),\n",
    "                    \"household_income\": fake.pyfloat(left_digits=6, right_digits=2, positive=True),\n",
    "                    \"phone_number\" : fake.phone_number(),\n",
    "                    \"email\": fake.email(),\n",
    "                    \"address\" : fake.address(),\n",
    "                    \"zip_code\" : fake.postcode(),\n",
    "                    \"city\" : fake.city(),\n",
    "                    \"state\" : fake.state(),\n",
    "                    \"country\" : fake.country(),\n",
    "                    \"year\": fake.year(),\n",
    "                    \"time\": fake.time(),\n",
    "                    \"url\": fake.url(),\n",
    "                    \"text\": fake.word(),\n",
    "                }\n",
    "            )\n",
    "    \n",
    "\n",
    "records = 1000\n",
    "headers = [\"id\", \"prefix\", \"name\", \"birth_date\", \"blood_type\", \"marriage_status\", \"household_income\", \"phone_number\", \"email\",\n",
    "            \"address\", \"zip_code\", \"city\", \"state\", \"country\", \"year\", \"time\", \"url\", \"text\"]\n",
    "generate_data(records, headers)"
   ]
  },
  {
   "cell_type": "markdown",
   "metadata": {},
   "source": [
    "#### Loading data"
   ]
  },
  {
   "cell_type": "code",
   "execution_count": 94,
   "metadata": {},
   "outputs": [
    {
     "data": {
      "text/html": [
       "<div>\n",
       "<style scoped>\n",
       "    .dataframe tbody tr th:only-of-type {\n",
       "        vertical-align: middle;\n",
       "    }\n",
       "\n",
       "    .dataframe tbody tr th {\n",
       "        vertical-align: top;\n",
       "    }\n",
       "\n",
       "    .dataframe thead th {\n",
       "        text-align: right;\n",
       "    }\n",
       "</style>\n",
       "<table border=\"1\" class=\"dataframe\">\n",
       "  <thead>\n",
       "    <tr style=\"text-align: right;\">\n",
       "      <th></th>\n",
       "      <th>prefix</th>\n",
       "      <th>name</th>\n",
       "      <th>birth_date</th>\n",
       "      <th>blood_type</th>\n",
       "      <th>marriage_status</th>\n",
       "      <th>household_income</th>\n",
       "      <th>phone_number</th>\n",
       "      <th>email</th>\n",
       "      <th>address</th>\n",
       "      <th>zip_code</th>\n",
       "      <th>city</th>\n",
       "      <th>state</th>\n",
       "      <th>country</th>\n",
       "      <th>year</th>\n",
       "      <th>time</th>\n",
       "      <th>url</th>\n",
       "      <th>text</th>\n",
       "    </tr>\n",
       "    <tr>\n",
       "      <th>id</th>\n",
       "      <th></th>\n",
       "      <th></th>\n",
       "      <th></th>\n",
       "      <th></th>\n",
       "      <th></th>\n",
       "      <th></th>\n",
       "      <th></th>\n",
       "      <th></th>\n",
       "      <th></th>\n",
       "      <th></th>\n",
       "      <th></th>\n",
       "      <th></th>\n",
       "      <th></th>\n",
       "      <th></th>\n",
       "      <th></th>\n",
       "      <th></th>\n",
       "      <th></th>\n",
       "    </tr>\n",
       "  </thead>\n",
       "  <tbody>\n",
       "    <tr>\n",
       "      <th>0</th>\n",
       "      <td>Srta.</td>\n",
       "      <td>Dr. Luiz Otávio Almeida</td>\n",
       "      <td>1973-08-07</td>\n",
       "      <td>B-</td>\n",
       "      <td>Unmarried</td>\n",
       "      <td>463489.60</td>\n",
       "      <td>71 3791-5556</td>\n",
       "      <td>qsilveira@example.com</td>\n",
       "      <td>Conjunto Lorenzo da Conceição, 87\\nCdi Jatoba\\...</td>\n",
       "      <td>22865-027</td>\n",
       "      <td>Gonçalves</td>\n",
       "      <td>Alagoas</td>\n",
       "      <td>Peru</td>\n",
       "      <td>2010</td>\n",
       "      <td>12:20:42</td>\n",
       "      <td>https://www.freitas.com/</td>\n",
       "      <td>vel</td>\n",
       "    </tr>\n",
       "    <tr>\n",
       "      <th>1</th>\n",
       "      <td>Sra.</td>\n",
       "      <td>Dr. Thales Gonçalves</td>\n",
       "      <td>1995-12-15</td>\n",
       "      <td>O+</td>\n",
       "      <td>Married</td>\n",
       "      <td>392673.57</td>\n",
       "      <td>+55 (071) 6127 1429</td>\n",
       "      <td>luiz-gustavo37@example.com</td>\n",
       "      <td>Quadra de Castro, 4\\nSanta Sofia\\n53341823 Cos...</td>\n",
       "      <td>57203402</td>\n",
       "      <td>Cardoso</td>\n",
       "      <td>Sergipe</td>\n",
       "      <td>Hong Kong</td>\n",
       "      <td>2014</td>\n",
       "      <td>05:58:00</td>\n",
       "      <td>http://www.peixoto.br/</td>\n",
       "      <td>fuga</td>\n",
       "    </tr>\n",
       "    <tr>\n",
       "      <th>2</th>\n",
       "      <td>Srta.</td>\n",
       "      <td>Kamilly Cavalcanti</td>\n",
       "      <td>1970-01-29</td>\n",
       "      <td>A+</td>\n",
       "      <td>married</td>\n",
       "      <td>109618.71</td>\n",
       "      <td>+55 (011) 6732 2717</td>\n",
       "      <td>lcosta@example.com</td>\n",
       "      <td>Alameda de Oliveira, 110\\nÁlvaro Camargos\\n572...</td>\n",
       "      <td>25934717</td>\n",
       "      <td>Alves Verde</td>\n",
       "      <td>Mato Grosso do Sul</td>\n",
       "      <td>Emirados Árabes Unidos</td>\n",
       "      <td>1998</td>\n",
       "      <td>04:21:55</td>\n",
       "      <td>http://da.com/</td>\n",
       "      <td>sapiente</td>\n",
       "    </tr>\n",
       "    <tr>\n",
       "      <th>3</th>\n",
       "      <td>Sra.</td>\n",
       "      <td>Helena Novaes</td>\n",
       "      <td>1996-09-04</td>\n",
       "      <td>B+</td>\n",
       "      <td>UNMARRIED</td>\n",
       "      <td>855947.78</td>\n",
       "      <td>+55 (071) 3303-6839</td>\n",
       "      <td>kdias@example.com</td>\n",
       "      <td>Chácara Anthony Moreira, 623\\nVila Copasa\\n247...</td>\n",
       "      <td>26235761</td>\n",
       "      <td>da Cruz das Pedras</td>\n",
       "      <td>Espírito Santo</td>\n",
       "      <td>Dhekelia</td>\n",
       "      <td>1992</td>\n",
       "      <td>19:01:04</td>\n",
       "      <td>http://www.costa.br/</td>\n",
       "      <td>aspernatur</td>\n",
       "    </tr>\n",
       "    <tr>\n",
       "      <th>4</th>\n",
       "      <td>Sra.</td>\n",
       "      <td>Maysa Barbosa</td>\n",
       "      <td>1994-03-08</td>\n",
       "      <td>O-</td>\n",
       "      <td>married</td>\n",
       "      <td>261893.78</td>\n",
       "      <td>0300 635 4403</td>\n",
       "      <td>juan43@example.net</td>\n",
       "      <td>Fazenda Ramos, 17\\nSatelite\\n86965596 Ferreira...</td>\n",
       "      <td>58039-052</td>\n",
       "      <td>Carvalho</td>\n",
       "      <td>Santa Catarina</td>\n",
       "      <td>Japão</td>\n",
       "      <td>1990</td>\n",
       "      <td>22:10:49</td>\n",
       "      <td>http://www.barros.com/</td>\n",
       "      <td>nesciunt</td>\n",
       "    </tr>\n",
       "  </tbody>\n",
       "</table>\n",
       "</div>"
      ],
      "text/plain": [
       "   prefix                     name  birth_date blood_type marriage_status  \\\n",
       "id                                                                          \n",
       "0   Srta.  Dr. Luiz Otávio Almeida  1973-08-07         B-       Unmarried   \n",
       "1    Sra.     Dr. Thales Gonçalves  1995-12-15         O+         Married   \n",
       "2   Srta.       Kamilly Cavalcanti  1970-01-29         A+         married   \n",
       "3    Sra.            Helena Novaes  1996-09-04         B+       UNMARRIED   \n",
       "4    Sra.            Maysa Barbosa  1994-03-08         O-         married   \n",
       "\n",
       "    household_income         phone_number                       email  \\\n",
       "id                                                                      \n",
       "0          463489.60         71 3791-5556       qsilveira@example.com   \n",
       "1          392673.57  +55 (071) 6127 1429  luiz-gustavo37@example.com   \n",
       "2          109618.71  +55 (011) 6732 2717          lcosta@example.com   \n",
       "3          855947.78  +55 (071) 3303-6839           kdias@example.com   \n",
       "4          261893.78        0300 635 4403          juan43@example.net   \n",
       "\n",
       "                                              address   zip_code  \\\n",
       "id                                                                 \n",
       "0   Conjunto Lorenzo da Conceição, 87\\nCdi Jatoba\\...  22865-027   \n",
       "1   Quadra de Castro, 4\\nSanta Sofia\\n53341823 Cos...   57203402   \n",
       "2   Alameda de Oliveira, 110\\nÁlvaro Camargos\\n572...   25934717   \n",
       "3   Chácara Anthony Moreira, 623\\nVila Copasa\\n247...   26235761   \n",
       "4   Fazenda Ramos, 17\\nSatelite\\n86965596 Ferreira...  58039-052   \n",
       "\n",
       "                  city               state                 country  year  \\\n",
       "id                                                                         \n",
       "0            Gonçalves             Alagoas                    Peru  2010   \n",
       "1              Cardoso             Sergipe               Hong Kong  2014   \n",
       "2          Alves Verde  Mato Grosso do Sul  Emirados Árabes Unidos  1998   \n",
       "3   da Cruz das Pedras      Espírito Santo                Dhekelia  1992   \n",
       "4             Carvalho      Santa Catarina                   Japão  1990   \n",
       "\n",
       "        time                       url        text  \n",
       "id                                                  \n",
       "0   12:20:42  https://www.freitas.com/         vel  \n",
       "1   05:58:00    http://www.peixoto.br/        fuga  \n",
       "2   04:21:55            http://da.com/    sapiente  \n",
       "3   19:01:04      http://www.costa.br/  aspernatur  \n",
       "4   22:10:49    http://www.barros.com/    nesciunt  "
      ]
     },
     "execution_count": 94,
     "metadata": {},
     "output_type": "execute_result"
    }
   ],
   "source": [
    "import pandas as pd\n",
    "\n",
    "people = pd.read_csv('files/people.csv', index_col='id')\n",
    "\n",
    "people.head()"
   ]
  },
  {
   "cell_type": "code",
   "execution_count": 96,
   "metadata": {},
   "outputs": [
    {
     "data": {
      "text/plain": [
       "B+     125\n",
       "AB+    121\n",
       "O-     118\n",
       "AB-    117\n",
       "B-     109\n",
       "A+     108\n",
       "A-     105\n",
       "O+     102\n",
       "Z+      95\n",
       "Name: blood_type, dtype: int64"
      ]
     },
     "execution_count": 96,
     "metadata": {},
     "output_type": "execute_result"
    }
   ],
   "source": [
    "people['blood_type'].value_counts()"
   ]
  },
  {
   "cell_type": "markdown",
   "metadata": {},
   "source": [
    "#### Finding inconsistent categories"
   ]
  },
  {
   "cell_type": "code",
   "execution_count": 97,
   "metadata": {},
   "outputs": [
    {
     "name": "stdout",
     "output_type": "stream",
     "text": [
      "{'Z+'}\n"
     ]
    }
   ],
   "source": [
    "# Correct blood types\n",
    "blood_types = ['A+', 'A-', 'B+', 'B-', 'AB+', 'AB-', 'O+', 'O-']\n",
    "categories = pd.DataFrame(blood_types)\n",
    "categories.columns = ['blood_type']\n",
    "\n",
    "inconsistent_categories = set(people['blood_type']).difference(categories['blood_type'])\n",
    "print(inconsistent_categories)"
   ]
  },
  {
   "cell_type": "markdown",
   "metadata": {},
   "source": [
    "#### Dropping inconsistent categories"
   ]
  },
  {
   "cell_type": "code",
   "execution_count": 98,
   "metadata": {},
   "outputs": [],
   "source": [
    "inconsistent_categories = set(people['blood_type']).difference(categories['blood_type'])\n",
    "inconsistent_rows = people['blood_type'].isin(inconsistent_categories)\n",
    "inconsistent_data = people[inconsistent_rows]\n",
    "# Drop inconsistent categories and get consistent data only\n",
    "consistent_data = people[~inconsistent_rows]"
   ]
  },
  {
   "cell_type": "markdown",
   "metadata": {},
   "source": [
    "Types of consistency errors\n",
    "1. Value inconsistency\n",
    "   * Inconsistent fields: `'married'`, `'Maried'`, `'UNMARRIED'`, `'not married'`...\n",
    "   * _Trailing white spaces: `'_married'` , `' married '` ..;\n",
    "2. Collapsing too many categories to few\n",
    "   * Creating new groups: `0-20K`, `20-40K` categories ... from continuous household income data\n",
    "   * Mapping groups to new ones: Mapping household income categories to 2 `'rich'` , `'poor'`\n",
    "3. Making sure data is of type `category`"
   ]
  },
  {
   "cell_type": "code",
   "execution_count": 99,
   "metadata": {},
   "outputs": [
    {
     "data": {
      "text/plain": [
       " married       111\n",
       "UNMARRIED      110\n",
       "Married        109\n",
       "Unmarried      104\n",
       "MARRIED        103\n",
       " unmarried     102\n",
       "U               99\n",
       "married         95\n",
       "unmarried       87\n",
       "M               80\n",
       "Name: marriage_status, dtype: int64"
      ]
     },
     "execution_count": 99,
     "metadata": {},
     "output_type": "execute_result"
    }
   ],
   "source": [
    "import pandas as pd\n",
    "\n",
    "people = pd.read_csv('files/people.csv', index_col='id')\n",
    "\n",
    "# Get marriage status column\n",
    "marriage_status = people['marriage_status']\n",
    "marriage_status.value_counts()"
   ]
  },
  {
   "cell_type": "markdown",
   "metadata": {},
   "source": [
    "#### Fixing inconsistent values"
   ]
  },
  {
   "cell_type": "code",
   "execution_count": 100,
   "metadata": {},
   "outputs": [
    {
     "data": {
      "text/plain": [
       "unmarried    502\n",
       "married      498\n",
       "Name: marriage_status, dtype: int64"
      ]
     },
     "execution_count": 100,
     "metadata": {},
     "output_type": "execute_result"
    }
   ],
   "source": [
    "import pandas as pd\n",
    "\n",
    "people = pd.read_csv('files/people.csv', index_col='id')\n",
    "\n",
    "# Fix upper and lowercase\n",
    "people['marriage_status'] = people['marriage_status'].str.lower()\n",
    "\n",
    "# Fixing leading and trailing spaces\n",
    "people['marriage_status'] = people['marriage_status'].str.strip()\n",
    "\n",
    "# Fixing incorrect values\n",
    "people.loc[people[\"marriage_status\"] == \"m\", \"marriage_status\"] = \"married\"\n",
    "people.loc[people[\"marriage_status\"] == \"u\", \"marriage_status\"] = \"unmarried\"\n",
    "\n",
    "people['marriage_status'].value_counts()"
   ]
  },
  {
   "cell_type": "markdown",
   "metadata": {},
   "source": [
    "#### Collapsing data into categories\n",
    "Create categories out of data: income_group column from income column"
   ]
  },
  {
   "cell_type": "code",
   "execution_count": 101,
   "metadata": {},
   "outputs": [
    {
     "data": {
      "text/plain": [
       "50K+       486\n",
       "20K-50K    313\n",
       "0-20K      201\n",
       "Name: income_group, dtype: int64"
      ]
     },
     "execution_count": 101,
     "metadata": {},
     "output_type": "execute_result"
    }
   ],
   "source": [
    "import pandas as pd\n",
    "import numpy as np\n",
    "\n",
    "people = pd.read_csv('files/people.csv', index_col='id')\n",
    "\n",
    "# Using cut) - create category ranges and names\n",
    "ranges = [0, 200000, 500000, np.inf]\n",
    "group_names = ['0-20K', '20K-50K', '50K+']\n",
    "\n",
    "# Create income group column\n",
    "people['income_group'] = pd.cut(people['household_income'], bins=ranges, labels=group_names)\n",
    "people['income_group'].value_counts()"
   ]
  },
  {
   "cell_type": "markdown",
   "metadata": {},
   "source": [
    "### Collapsing data into categories\n",
    "\n",
    "**Map categories to fewer ones**: reducing categories in categorical column.\n",
    "\n",
    "operating_system column is: `'Microsoft'`, `'MacOS'`, `'Linux'`, `'IOS'`, `'Android'`\n",
    "\n",
    "operating_system column should become: `'DesktopOS'`, `'MobileOS'`"
   ]
  },
  {
   "cell_type": "code",
   "execution_count": 103,
   "metadata": {},
   "outputs": [
    {
     "data": {
      "text/html": [
       "<div>\n",
       "<style scoped>\n",
       "    .dataframe tbody tr th:only-of-type {\n",
       "        vertical-align: middle;\n",
       "    }\n",
       "\n",
       "    .dataframe tbody tr th {\n",
       "        vertical-align: top;\n",
       "    }\n",
       "\n",
       "    .dataframe thead th {\n",
       "        text-align: right;\n",
       "    }\n",
       "</style>\n",
       "<table border=\"1\" class=\"dataframe\">\n",
       "  <thead>\n",
       "    <tr style=\"text-align: right;\">\n",
       "      <th></th>\n",
       "      <th>id</th>\n",
       "      <th>name</th>\n",
       "      <th>email</th>\n",
       "      <th>os</th>\n",
       "    </tr>\n",
       "  </thead>\n",
       "  <tbody>\n",
       "    <tr>\n",
       "      <th>0</th>\n",
       "      <td>0</td>\n",
       "      <td>Camila Castro</td>\n",
       "      <td>souzayuri@example.net</td>\n",
       "      <td>Linux</td>\n",
       "    </tr>\n",
       "    <tr>\n",
       "      <th>1</th>\n",
       "      <td>1</td>\n",
       "      <td>Rodrigo Alves</td>\n",
       "      <td>joao-pedro39@example.com</td>\n",
       "      <td>Android</td>\n",
       "    </tr>\n",
       "    <tr>\n",
       "      <th>2</th>\n",
       "      <td>2</td>\n",
       "      <td>Rebeca da Costa</td>\n",
       "      <td>alicia46@example.net</td>\n",
       "      <td>Windows</td>\n",
       "    </tr>\n",
       "    <tr>\n",
       "      <th>3</th>\n",
       "      <td>3</td>\n",
       "      <td>Dr. Danilo Barros</td>\n",
       "      <td>danielafarias@example.com</td>\n",
       "      <td>MacOS</td>\n",
       "    </tr>\n",
       "    <tr>\n",
       "      <th>4</th>\n",
       "      <td>4</td>\n",
       "      <td>Matheus Lopes</td>\n",
       "      <td>aragaoarthur@example.net</td>\n",
       "      <td>MacOS</td>\n",
       "    </tr>\n",
       "  </tbody>\n",
       "</table>\n",
       "</div>"
      ],
      "text/plain": [
       "   id               name                      email       os\n",
       "0   0      Camila Castro      souzayuri@example.net    Linux\n",
       "1   1      Rodrigo Alves   joao-pedro39@example.com  Android\n",
       "2   2    Rebeca da Costa       alicia46@example.net  Windows\n",
       "3   3  Dr. Danilo Barros  danielafarias@example.com    MacOS\n",
       "4   4      Matheus Lopes   aragaoarthur@example.net    MacOS"
      ]
     },
     "execution_count": 103,
     "metadata": {},
     "output_type": "execute_result"
    }
   ],
   "source": [
    "import pandas as pd\n",
    "import numpy as np\n",
    "\n",
    "from faker import Faker\n",
    "\n",
    "fake = Faker('pt_BR')\n",
    "\n",
    "operating_systems = ['Windows', 'MacOS', 'Linux', 'Android', 'iOS']\n",
    "\n",
    "users = pd.DataFrame(columns=['id', 'name', 'email', 'os'])\n",
    "\n",
    "for i in range(100):\n",
    "    users.loc[i] = [i, fake.name(), fake.email(), fake.random_element(elements=operating_systems)]\n",
    "\n",
    "users.head()"
   ]
  },
  {
   "cell_type": "markdown",
   "metadata": {},
   "source": [
    "Current values in the operating_system column"
   ]
  },
  {
   "cell_type": "code",
   "execution_count": 104,
   "metadata": {},
   "outputs": [
    {
     "data": {
      "text/plain": [
       "array(['Linux', 'Android', 'Windows', 'MacOS', 'iOS'], dtype=object)"
      ]
     },
     "execution_count": 104,
     "metadata": {},
     "output_type": "execute_result"
    }
   ],
   "source": [
    "users['os'].unique()"
   ]
  },
  {
   "cell_type": "markdown",
   "metadata": {},
   "source": [
    "Remapping values in the operating_system column"
   ]
  },
  {
   "cell_type": "code",
   "execution_count": 105,
   "metadata": {},
   "outputs": [
    {
     "data": {
      "text/plain": [
       "array(['DesktopOS', 'MobileOS'], dtype=object)"
      ]
     },
     "execution_count": 105,
     "metadata": {},
     "output_type": "execute_result"
    }
   ],
   "source": [
    "# Create mapping dictionary and replace\n",
    "mapping = {\n",
    "    'Windows': 'DesktopOS',\n",
    "    'MacOS': 'DesktopOS',\n",
    "    'Linux': 'DesktopOS',\n",
    "    'iOS': 'MobileOS',\n",
    "    'Android':'MobileOS'\n",
    "}\n",
    "users['os'] = users['os'].replace(mapping)\n",
    "users['os'].unique()"
   ]
  },
  {
   "cell_type": "markdown",
   "metadata": {},
   "source": [
    "#### Airline data"
   ]
  },
  {
   "cell_type": "markdown",
   "metadata": {},
   "source": [
    "Possible categories for airline data"
   ]
  },
  {
   "cell_type": "code",
   "execution_count": 106,
   "metadata": {},
   "outputs": [
    {
     "data": {
      "text/html": [
       "<div>\n",
       "<style scoped>\n",
       "    .dataframe tbody tr th:only-of-type {\n",
       "        vertical-align: middle;\n",
       "    }\n",
       "\n",
       "    .dataframe tbody tr th {\n",
       "        vertical-align: top;\n",
       "    }\n",
       "\n",
       "    .dataframe thead th {\n",
       "        text-align: right;\n",
       "    }\n",
       "</style>\n",
       "<table border=\"1\" class=\"dataframe\">\n",
       "  <thead>\n",
       "    <tr style=\"text-align: right;\">\n",
       "      <th></th>\n",
       "      <th>cleanliness</th>\n",
       "      <th>safety</th>\n",
       "      <th>satisfaction</th>\n",
       "    </tr>\n",
       "  </thead>\n",
       "  <tbody>\n",
       "    <tr>\n",
       "      <th>0</th>\n",
       "      <td>Clean</td>\n",
       "      <td>Neutral</td>\n",
       "      <td>Very satisfied</td>\n",
       "    </tr>\n",
       "    <tr>\n",
       "      <th>1</th>\n",
       "      <td>Average</td>\n",
       "      <td>Very safe</td>\n",
       "      <td>Neutral</td>\n",
       "    </tr>\n",
       "    <tr>\n",
       "      <th>2</th>\n",
       "      <td>Somewhat clean</td>\n",
       "      <td>Somewhat safe</td>\n",
       "      <td>Somewhat satisfied</td>\n",
       "    </tr>\n",
       "    <tr>\n",
       "      <th>3</th>\n",
       "      <td>Somewhat dirty</td>\n",
       "      <td>Very unsafe</td>\n",
       "      <td>Somewhat unsatisfied</td>\n",
       "    </tr>\n",
       "    <tr>\n",
       "      <th>4</th>\n",
       "      <td>Dirty</td>\n",
       "      <td>Somewhat unsafe</td>\n",
       "      <td>Very unsatisfied</td>\n",
       "    </tr>\n",
       "  </tbody>\n",
       "</table>\n",
       "</div>"
      ],
      "text/plain": [
       "      cleanliness           safety          satisfaction\n",
       "0           Clean          Neutral        Very satisfied\n",
       "1         Average        Very safe               Neutral\n",
       "2  Somewhat clean    Somewhat safe    Somewhat satisfied\n",
       "3  Somewhat dirty      Very unsafe  Somewhat unsatisfied\n",
       "4           Dirty  Somewhat unsafe      Very unsatisfied"
      ]
     },
     "execution_count": 106,
     "metadata": {},
     "output_type": "execute_result"
    }
   ],
   "source": [
    "import pandas as pd\n",
    "\n",
    "categories = pd.read_csv('files/categories.csv', index_col=0)\n",
    "\n",
    "categories"
   ]
  },
  {
   "cell_type": "markdown",
   "metadata": {},
   "source": [
    "Analyzing the data, we can see that the airline data has the following categories"
   ]
  },
  {
   "cell_type": "code",
   "execution_count": 107,
   "metadata": {},
   "outputs": [
    {
     "name": "stdout",
     "output_type": "stream",
     "text": [
      "Cleanliness:  ['Clean' 'Average' 'Somewhat clean' 'Unacceptable' 'Somewhat dirty'\n",
      " 'Dirty'] \n",
      "\n",
      "Safety:  ['Neutral' 'Very safe' 'Somewhat safe' 'Very unsafe' 'Somewhat unsafe'] \n",
      "\n",
      "Satisfaction:  ['Very satisfied' 'Neutral' 'Somewhat satisfied' 'Somewhat unsatisfied'\n",
      " 'Very unsatisfied'] \n",
      "\n"
     ]
    }
   ],
   "source": [
    "import pandas as pd\n",
    "\n",
    "airlines = pd.read_csv('files/airlines.csv', index_col=0)\n",
    "\n",
    "print('Cleanliness: ', airlines['cleanliness'].unique(), \"\\n\")\n",
    "print('Safety: ', airlines['safety'].unique(), \"\\n\")\n",
    "print('Satisfaction: ', airlines['satisfaction'].unique(), \"\\n\")"
   ]
  },
  {
   "cell_type": "markdown",
   "metadata": {},
   "source": [
    "#### Inconsistent categories"
   ]
  },
  {
   "cell_type": "code",
   "execution_count": 108,
   "metadata": {},
   "outputs": [
    {
     "name": "stdout",
     "output_type": "stream",
     "text": [
      "['Asia' 'Canada/Mexico' 'West US' 'East US' 'Midwest US' 'EAST US'\n",
      " 'Middle East' 'Europe' 'eur' 'Central/South America'\n",
      " 'Australia/New Zealand' 'middle east']\n",
      "['Hub' 'Small' '    Hub' 'Medium' 'Large' 'Hub     ' '    Small'\n",
      " 'Medium     ' '    Medium' 'Small     ' '    Large' 'Large     ']\n"
     ]
    }
   ],
   "source": [
    "import pandas as pd\n",
    "\n",
    "airlines = pd.read_csv('files/airlines.csv', index_col=0)\n",
    "\n",
    "# Print unique values of both columns\n",
    "print(airlines['dest_region'].unique())\n",
    "print(airlines['dest_size'].unique())"
   ]
  },
  {
   "cell_type": "markdown",
   "metadata": {},
   "source": [
    "### Remapping categories into ranges"
   ]
  },
  {
   "cell_type": "code",
   "execution_count": 109,
   "metadata": {},
   "outputs": [
    {
     "name": "stdout",
     "output_type": "stream",
     "text": [
      "medium    1711\n",
      "long       685\n",
      "short       81\n",
      "Name: wait_type, dtype: int64\n",
      "weekday    2000\n",
      "weekend     477\n",
      "Name: day_week, dtype: int64\n"
     ]
    }
   ],
   "source": [
    "import pandas as pd\n",
    "import numpy as np\n",
    "\n",
    "airlines = pd.read_csv('files/airlines.csv', index_col=0)\n",
    "\n",
    "# Create ranges for categories\n",
    "label_ranges = [0, 60, 180, np.inf]\n",
    "label_names = ['short', 'medium', 'long']\n",
    "\n",
    "# Create wait_type column\n",
    "airlines['wait_type'] = pd.cut(airlines['wait_min'], bins = label_ranges, labels = label_names)\n",
    "\n",
    "# Create mappings and replace\n",
    "mappings = {'Monday':'weekday', 'Tuesday':'weekday', 'Wednesday': 'weekday', \n",
    "            'Thursday': 'weekday', 'Friday': 'weekday', \n",
    "            'Saturday': 'weekend', 'Sunday': 'weekend'}\n",
    "\n",
    "airlines['day_week'] = airlines['day'].replace(mappings)\n",
    "\n",
    "print(airlines['wait_type'].value_counts())\n",
    "print(airlines['day_week'].value_counts())"
   ]
  },
  {
   "cell_type": "markdown",
   "metadata": {},
   "source": [
    "### Cleaning text data"
   ]
  },
  {
   "cell_type": "markdown",
   "metadata": {},
   "source": [
    "Common text data problems\n",
    "1. Data inconsistency:\n",
    "   * +96171679912 or 0096171679912 or ...?\n",
    "2. Fixed length violations:\n",
    "   * Passwords needs to be at least 8 characters\n",
    "3. Typos:\n",
    "   * +961.71.679912"
   ]
  },
  {
   "cell_type": "markdown",
   "metadata": {},
   "source": [
    "Removing titles from names"
   ]
  },
  {
   "cell_type": "code",
   "execution_count": 110,
   "metadata": {},
   "outputs": [
    {
     "data": {
      "text/html": [
       "<div>\n",
       "<style scoped>\n",
       "    .dataframe tbody tr th:only-of-type {\n",
       "        vertical-align: middle;\n",
       "    }\n",
       "\n",
       "    .dataframe tbody tr th {\n",
       "        vertical-align: top;\n",
       "    }\n",
       "\n",
       "    .dataframe thead th {\n",
       "        text-align: right;\n",
       "    }\n",
       "</style>\n",
       "<table border=\"1\" class=\"dataframe\">\n",
       "  <thead>\n",
       "    <tr style=\"text-align: right;\">\n",
       "      <th></th>\n",
       "      <th>id</th>\n",
       "      <th>day</th>\n",
       "      <th>airline</th>\n",
       "      <th>destination</th>\n",
       "      <th>dest_region</th>\n",
       "      <th>dest_size</th>\n",
       "      <th>boarding_area</th>\n",
       "      <th>dept_time</th>\n",
       "      <th>wait_min</th>\n",
       "      <th>cleanliness</th>\n",
       "      <th>safety</th>\n",
       "      <th>satisfaction</th>\n",
       "      <th>full_name</th>\n",
       "    </tr>\n",
       "  </thead>\n",
       "  <tbody>\n",
       "    <tr>\n",
       "      <th>0</th>\n",
       "      <td>1351</td>\n",
       "      <td>Tuesday</td>\n",
       "      <td>UNITED INTL</td>\n",
       "      <td>KANSAI</td>\n",
       "      <td>Asia</td>\n",
       "      <td>Hub</td>\n",
       "      <td>Gates 91-102</td>\n",
       "      <td>2018-12-31</td>\n",
       "      <td>115.0</td>\n",
       "      <td>Clean</td>\n",
       "      <td>Neutral</td>\n",
       "      <td>Very satisfied</td>\n",
       "      <td>Leonardo da Cunha</td>\n",
       "    </tr>\n",
       "    <tr>\n",
       "      <th>1</th>\n",
       "      <td>373</td>\n",
       "      <td>Friday</td>\n",
       "      <td>ALASKA</td>\n",
       "      <td>SAN JOSE DEL CABO</td>\n",
       "      <td>Canada/Mexico</td>\n",
       "      <td>Small</td>\n",
       "      <td>Gates 50-59</td>\n",
       "      <td>2018-12-31</td>\n",
       "      <td>135.0</td>\n",
       "      <td>Clean</td>\n",
       "      <td>Very safe</td>\n",
       "      <td>Very satisfied</td>\n",
       "      <td>Marcelo Lima</td>\n",
       "    </tr>\n",
       "    <tr>\n",
       "      <th>2</th>\n",
       "      <td>2820</td>\n",
       "      <td>Thursday</td>\n",
       "      <td>DELTA</td>\n",
       "      <td>LOS ANGELES</td>\n",
       "      <td>West US</td>\n",
       "      <td>Hub</td>\n",
       "      <td>Gates 40-48</td>\n",
       "      <td>2018-12-31</td>\n",
       "      <td>70.0</td>\n",
       "      <td>Average</td>\n",
       "      <td>Somewhat safe</td>\n",
       "      <td>Neutral</td>\n",
       "      <td>a. Ana Beatriz Rezende</td>\n",
       "    </tr>\n",
       "    <tr>\n",
       "      <th>3</th>\n",
       "      <td>1157</td>\n",
       "      <td>Tuesday</td>\n",
       "      <td>SOUTHWEST</td>\n",
       "      <td>LOS ANGELES</td>\n",
       "      <td>West US</td>\n",
       "      <td>Hub</td>\n",
       "      <td>Gates 20-39</td>\n",
       "      <td>2018-12-31</td>\n",
       "      <td>190.0</td>\n",
       "      <td>Clean</td>\n",
       "      <td>Very safe</td>\n",
       "      <td>Somewhat satisfied</td>\n",
       "      <td>Vinicius Teixeira</td>\n",
       "    </tr>\n",
       "    <tr>\n",
       "      <th>4</th>\n",
       "      <td>2992</td>\n",
       "      <td>Wednesday</td>\n",
       "      <td>AMERICAN</td>\n",
       "      <td>MIAMI</td>\n",
       "      <td>East US</td>\n",
       "      <td>Hub</td>\n",
       "      <td>Gates 50-59</td>\n",
       "      <td>2018-12-31</td>\n",
       "      <td>559.0</td>\n",
       "      <td>Somewhat clean</td>\n",
       "      <td>Very safe</td>\n",
       "      <td>Somewhat satisfied</td>\n",
       "      <td>Lucas Freitas</td>\n",
       "    </tr>\n",
       "  </tbody>\n",
       "</table>\n",
       "</div>"
      ],
      "text/plain": [
       "     id        day      airline        destination    dest_region dest_size  \\\n",
       "0  1351    Tuesday  UNITED INTL             KANSAI           Asia       Hub   \n",
       "1   373     Friday       ALASKA  SAN JOSE DEL CABO  Canada/Mexico     Small   \n",
       "2  2820   Thursday        DELTA        LOS ANGELES        West US       Hub   \n",
       "3  1157    Tuesday    SOUTHWEST        LOS ANGELES        West US       Hub   \n",
       "4  2992  Wednesday     AMERICAN              MIAMI        East US       Hub   \n",
       "\n",
       "  boarding_area   dept_time  wait_min     cleanliness         safety  \\\n",
       "0  Gates 91-102  2018-12-31     115.0           Clean        Neutral   \n",
       "1   Gates 50-59  2018-12-31     135.0           Clean      Very safe   \n",
       "2   Gates 40-48  2018-12-31      70.0         Average  Somewhat safe   \n",
       "3   Gates 20-39  2018-12-31     190.0           Clean      Very safe   \n",
       "4   Gates 50-59  2018-12-31     559.0  Somewhat clean      Very safe   \n",
       "\n",
       "         satisfaction               full_name  \n",
       "0      Very satisfied       Leonardo da Cunha  \n",
       "1      Very satisfied            Marcelo Lima  \n",
       "2             Neutral  a. Ana Beatriz Rezende  \n",
       "3  Somewhat satisfied       Vinicius Teixeira  \n",
       "4  Somewhat satisfied           Lucas Freitas  "
      ]
     },
     "execution_count": 110,
     "metadata": {},
     "output_type": "execute_result"
    }
   ],
   "source": [
    "import random\n",
    "import pandas as pd\n",
    "from faker import Faker\n",
    "\n",
    "airlines = pd.read_csv('files/airlines.csv', index_col=0)\n",
    "\n",
    "# Add random titles and names\n",
    "fake = Faker('pt_BR')\n",
    "names = []\n",
    "for i in range(airlines.shape[0]):\n",
    "    male = random.choices([True, False], weights=[8, 2])[0]\n",
    "    if male:\n",
    "        name = fake.prefix_male() + ' ' + fake.name_male()\n",
    "    else:\n",
    "        name = fake.prefix_female() + ' ' + fake.name_female()\n",
    "    names.append(name)\n",
    "airlines['full_name'] = names    \n",
    "\n",
    "# Titles are in the name column\n",
    "assert airlines['full_name'].str.contains('Dr.|Dra.|Sr.|Sra.').any() == True\n",
    "\n",
    "# Replace unwanted titles with empty strings \"\"\n",
    "airlines['full_name'] = airlines['full_name'].str.replace(\"Dr.\", \"\", regex=True)\n",
    "airlines['full_name'] = airlines['full_name'].str.replace(\"Dra.\", \"\", regex=True)\n",
    "airlines['full_name'] = airlines['full_name'].str.replace(\"Sr.\", \"\", regex=True)\n",
    "airlines['full_name'] = airlines['full_name'].str.replace(\"Sra.\", \"\", regex=True)\n",
    "\n",
    "# Assert that full_name has no honorifics\n",
    "assert airlines['full_name'].str.contains('Dr.|Dra.|Sr.|Sra.').any() == False\n",
    "\n",
    "airlines.head()"
   ]
  },
  {
   "cell_type": "markdown",
   "metadata": {},
   "source": [
    "Keeping significant responses"
   ]
  },
  {
   "cell_type": "code",
   "execution_count": 114,
   "metadata": {},
   "outputs": [
    {
     "name": "stdout",
     "output_type": "stream",
     "text": [
      "8            Facere minus debitis exercitationem aliquam.\n",
      "10      Debitis modi eos quisquam neque quidem. Delect...\n",
      "12      Officia unde culpa quo earum officiis aspernatur.\n",
      "16      Voluptates reiciendis voluptas quia fugiat qui...\n",
      "18           Illo vel quas atque. Impedit assumenda iure.\n",
      "                              ...                        \n",
      "2798    Voluptates voluptatem vero architecto veritati...\n",
      "2801    Odio enim placeat ad. Inventore assumenda prov...\n",
      "2802    Assumenda quam voluptatibus tenetur nostrum ne...\n",
      "2803    Hic quisquam odio harum ex. Dolorum exercitati...\n",
      "2806    Pariatur non quae. Dolorem nesciunt sit deseru...\n",
      "Name: survey_response, Length: 1074, dtype: object\n"
     ]
    }
   ],
   "source": [
    "import random\n",
    "import pandas as pd\n",
    "from faker import Faker\n",
    "\n",
    "airlines = pd.read_csv('files/airlines.csv', index_col=0)\n",
    "\n",
    "# Add random survey responses\n",
    "fake = Faker('pt_BR')\n",
    "survey_responses = []\n",
    "for i in range(airlines.shape[0]):\n",
    "    survey_responses.append(fake.text(max_nb_chars=random.randint(10, 100)))\n",
    "airlines['survey_response'] = survey_responses\n",
    "\n",
    "# Store length of each row in survey_response column\n",
    "resp_length = airlines['survey_response'].str.len()\n",
    "\n",
    "# Find rows in airlines where resp_length > 40\n",
    "airlines_survey = airlines[resp_length > 40]\n",
    "\n",
    "# Assert minimum survey_response length is > 40\n",
    "assert airlines_survey['survey_response'].str.len().min() > 40\n",
    "\n",
    "# Print new survey_response column\n",
    "print(airlines_survey['survey_response'])"
   ]
  },
  {
   "cell_type": "markdown",
   "metadata": {},
   "source": [
    "## Uniformity"
   ]
  },
  {
   "cell_type": "markdown",
   "metadata": {},
   "source": [
    "| Column | Unit |\n",
    "| --- | --- |\n",
    "| Temperature | 32°C is also 89.6°F |\n",
    "| Weight | 70 Kg is also 11 st. |\n",
    "| Date | 26-11-2019 is also 26, November, 2019 |\n",
    "| Money | 100$ is also 10763.90¥ |"
   ]
  },
  {
   "cell_type": "markdown",
   "metadata": {},
   "source": [
    "### Uniform currencies"
   ]
  },
  {
   "cell_type": "code",
   "execution_count": 115,
   "metadata": {},
   "outputs": [],
   "source": [
    "import pandas as pd\n",
    "\n",
    "banking = pd.read_csv('files/banking.csv')\n",
    "\n",
    "# Find values of acct_cur that are equal to 'euro'\n",
    "acct_eu = banking['acct_cur'] == 'euro'\n",
    "\n",
    "# Convert acct_amount where it is in euro to dollars\n",
    "banking.loc[acct_eu, 'acct_amount'] = banking.loc[acct_eu, 'acct_amount'] * 1.1\n",
    "\n",
    "# Unify acct_cur column by changing 'euro' values to 'dollar'\n",
    "banking.loc[acct_eu, 'acct_cur'] = 'dollar'\n",
    "\n",
    "# Assert that only dollar currency remains\n",
    "assert banking['acct_cur'].unique() == 'dollar'"
   ]
  },
  {
   "cell_type": "markdown",
   "metadata": {},
   "source": [
    "#### inv_amount should equals to A + B + C + D"
   ]
  },
  {
   "cell_type": "code",
   "execution_count": 116,
   "metadata": {},
   "outputs": [
    {
     "name": "stdout",
     "output_type": "stream",
     "text": [
      "Number of inconsistent investments:  17\n"
     ]
    }
   ],
   "source": [
    "import pandas as pd\n",
    "\n",
    "banking = pd.read_csv('files/banking.csv')\n",
    "\n",
    "# Store fund columns to sum against\n",
    "fund_columns = ['fund_A', 'fund_B', 'fund_C', 'fund_D']\n",
    "\n",
    "# Find rows where fund_columns row sum == inv_amount\n",
    "inv_equ = banking[fund_columns].sum(axis = 1) == banking['inv_amount']\n",
    "\n",
    "# Store consistent and inconsistent data\n",
    "consistent_inv = banking[inv_equ]\n",
    "inconsistent_inv = banking[~inv_equ]\n",
    "\n",
    "# Store consistent and inconsistent data\n",
    "print(\"Number of inconsistent investments: \", inconsistent_inv.shape[0])"
   ]
  },
  {
   "cell_type": "code",
   "execution_count": 122,
   "metadata": {},
   "outputs": [
    {
     "name": "stdout",
     "output_type": "stream",
     "text": [
      "cust_id             0\n",
      "birth_date          0\n",
      "Age                 0\n",
      "acct_amount         0\n",
      "inv_amount          9\n",
      "fund_A              9\n",
      "fund_B              9\n",
      "fund_C              9\n",
      "fund_D              9\n",
      "account_opened      0\n",
      "last_transaction    0\n",
      "acct_cur            0\n",
      "dtype: int64\n"
     ]
    },
    {
     "data": {
      "image/png": "[encoded data removed]",
      "text/plain": [
       "<Figure size 2500x1000 with 2 Axes>"
      ]
     },
     "metadata": {},
     "output_type": "display_data"
    }
   ],
   "source": [
    "import pandas as pd\n",
    "import matplotlib.pyplot as plt\n",
    "import missingno as msno\n",
    "\n",
    "banking = pd.read_csv('files/banking.csv')\n",
    "\n",
    "# Print number of missing values in banking\n",
    "print(banking.isna().sum())\n",
    "\n",
    "# Visualize missingness matrix\n",
    "msno.matrix(banking)\n",
    "plt.show()"
   ]
  },
  {
   "cell_type": "code",
   "execution_count": 119,
   "metadata": {},
   "outputs": [
    {
     "data": {
      "image/png": "[encoded data removed]",
      "text/plain": [
       "<Figure size 2500x1000 with 2 Axes>"
      ]
     },
     "metadata": {},
     "output_type": "display_data"
    }
   ],
   "source": [
    "import pandas as pd\n",
    "\n",
    "banking = pd.read_csv('files/banking.csv')\n",
    "\n",
    "banking_sorted = banking.sort_values(by = 'Age')\n",
    "msno.matrix(banking_sorted)\n",
    "plt.show()"
   ]
  },
  {
   "cell_type": "markdown",
   "metadata": {},
   "source": [
    "#### Tracking the reason for the missing data"
   ]
  },
  {
   "cell_type": "code",
   "execution_count": 123,
   "metadata": {},
   "outputs": [
    {
     "name": "stdout",
     "output_type": "stream",
     "text": [
      "cust_id             0\n",
      "birth_date          0\n",
      "Age                 0\n",
      "acct_amount         0\n",
      "inv_amount          9\n",
      "fund_A              9\n",
      "fund_B              9\n",
      "fund_C              9\n",
      "fund_D              9\n",
      "account_opened      0\n",
      "last_transaction    0\n",
      "acct_cur            0\n",
      "dtype: int64\n"
     ]
    }
   ],
   "source": [
    "import pandas as pd\n",
    "\n",
    "banking = pd.read_csv('files/banking.csv')\n",
    "\n",
    "# Drop missing values of cust_id\n",
    "banking_fullid = banking.dropna(subset = ['cust_id'])\n",
    "\n",
    "# Compute estimated acct_amount\n",
    "acct_imp = banking_fullid['inv_amount'] * 5\n",
    "\n",
    "# Impute missing acct_amount with corresponding acct_imp\n",
    "banking_imputed = banking_fullid.fillna({'acct_amount':acct_imp})\n",
    "\n",
    "# Print number of missing values\n",
    "print(banking_imputed.isna().sum())"
   ]
  },
  {
   "cell_type": "markdown",
   "metadata": {},
   "source": [
    "### Comparing strings"
   ]
  },
  {
   "cell_type": "markdown",
   "metadata": {},
   "source": [
    "#### Cuisine types"
   ]
  },
  {
   "cell_type": "markdown",
   "metadata": {},
   "source": [
    "Addind noise to the cuisine types"
   ]
  },
  {
   "cell_type": "code",
   "execution_count": 134,
   "metadata": {},
   "outputs": [
    {
     "data": {
      "text/plain": [
       "array(['amerrican', 'americen', 'americann', 'amurican', 'asiann',\n",
       "       'italiaan', 'asiaan', 'amerycan', 'america', 'itali', 'italien',\n",
       "       'murican', 'american', 'coffeebar', 'itallian', 'ammericann',\n",
       "       'asiane', 'italiian', 'ameerican', 'aamerican', 'mexican',\n",
       "       'italianne', 'asiian', 'americano', 'asian', 'southwestern',\n",
       "       'steakhouses', 'ameriican', 'southern', 'americin', 'italiano',\n",
       "       'italiann', 'italian', 'ameerrican', 'cajun', 'asiat',\n",
       "       'ammereican', 'merican', 'asianne'], dtype=object)"
      ]
     },
     "execution_count": 134,
     "metadata": {},
     "output_type": "execute_result"
    }
   ],
   "source": [
    "import pandas as pd\n",
    "\n",
    "restaurants = pd.read_csv('files/restaurants_original.csv')\n",
    "\n",
    "asian_variants = [\n",
    "    'asian', 'asiane', 'asiann', 'asiian', 'asiaan', 'asianne', 'asiat'\n",
    "]\n",
    "\n",
    "italian_variants = [\n",
    "    'italiann', 'italiano', 'italianne', 'italian', 'italiaan', 'italiian', 'itallian', 'italien', 'itali'\n",
    "]\n",
    "\n",
    "american_variants = [\n",
    "    'americann', 'americano', 'ameerican', 'aamerican', 'ameriican', 'amerrican', 'ammericann', 'ameerrican',\n",
    "    'ammereican', 'america', 'merican', 'murican', 'americen', 'americin', 'amerycan', 'amurican', 'american',\n",
    "]\n",
    "\n",
    "restaurants.loc[restaurants['cuisine_type'] == 'american','cuisine_type'] = restaurants['cuisine_type'].apply(lambda x: np.random.choice(american_variants))\n",
    "restaurants.loc[restaurants['cuisine_type'] == 'italian','cuisine_type'] = restaurants['cuisine_type'].apply(lambda x: np.random.choice(italian_variants))\n",
    "restaurants.loc[restaurants['cuisine_type'] == 'asian','cuisine_type'] = restaurants['cuisine_type'].apply(lambda x: np.random.choice(asian_variants))\n",
    "\n",
    "restaurants['cuisine_type'].unique()"
   ]
  },
  {
   "cell_type": "code",
   "execution_count": 135,
   "metadata": {},
   "outputs": [
    {
     "name": "stdout",
     "output_type": "stream",
     "text": [
      "[('asian', 100), ('asiian', 91), ('asiane', 91), ('asiann', 91), ('asiaan', 91), ('asianne', 83), ('asiat', 80), ('italiano', 72), ('italianne', 72), ('italiann', 72), ('italian', 67), ('american', 62), ('amurican', 62), ('italiian', 62), ('itallian', 62), ('italiaan', 62), ('aamerican', 57), ('americano', 57), ('ameriican', 57), ('amerrican', 57), ('ameerican', 57), ('americann', 57), ('ammereican', 54), ('ameerrican', 54), ('ammericann', 54), ('merican', 50), ('italien', 50), ('america', 50), ('mexican', 50), ('murican', 50), ('amerycan', 46), ('americin', 46), ('americen', 46), ('itali', 40), ('cajun', 40), ('southwestern', 36), ('southern', 31), ('coffeebar', 26), ('steakhouses', 25)]\n",
      "[('american', 100), ('aamerican', 94), ('americano', 94), ('ameriican', 94), ('amerrican', 94), ('ameerican', 94), ('americann', 94), ('merican', 93), ('america', 93), ('ammereican', 89), ('ameerrican', 89), ('ammericann', 89), ('amerycan', 88), ('americin', 88), ('amurican', 88), ('americen', 88), ('mexican', 80), ('murican', 80), ('cajun', 68), ('asian', 62), ('asiian', 57), ('asiane', 57), ('asiann', 57), ('asiaan', 57), ('asianne', 53), ('italian', 53), ('italiano', 50), ('italiian', 50), ('itallian', 50), ('italiaan', 50), ('italiann', 50), ('italianne', 47), ('asiat', 46), ('southwestern', 41), ('italien', 40), ('itali', 40), ('southern', 38), ('coffeebar', 24), ('steakhouses', 21)]\n",
      "[('italian', 100), ('italiano', 93), ('italiian', 93), ('itallian', 93), ('italiaan', 93), ('italiann', 93), ('italianne', 88), ('italien', 86), ('itali', 83), ('asian', 67), ('asiian', 62), ('asiane', 62), ('asiann', 62), ('asiaan', 62), ('asianne', 57), ('asiat', 50), ('ameriican', 50), ('merican', 43), ('mexican', 43), ('murican', 43), ('american', 40), ('amerycan', 40), ('americin', 40), ('amurican', 40), ('aamerican', 38), ('americano', 38), ('amerrican', 38), ('ameerican', 38), ('americann', 38), ('ammereican', 35), ('ameerrican', 35), ('ammericann', 35), ('cajun', 33), ('america', 29), ('americen', 27), ('southern', 27), ('southwestern', 26), ('steakhouses', 26), ('coffeebar', 12)]\n"
     ]
    }
   ],
   "source": [
    "import pandas as pd\n",
    "from thefuzz import process\n",
    "\n",
    "restaurants = pd.read_csv('files/restaurants.csv')\n",
    "\n",
    "# Store the unique values of cuisine_type in unique_types\n",
    "unique_types = restaurants['cuisine_type'].unique()\n",
    "\n",
    "# Calculate similarity of 'asian' to all values of unique_types\n",
    "print(process.extract('asian', unique_types, limit = len(unique_types)))\n",
    "\n",
    "# Calculate similarity of 'american' to all values of unique_types\n",
    "print(process.extract('american', unique_types, limit = len(unique_types)))\n",
    "\n",
    "# Calculate similarity of 'italian' to all values of unique_types\n",
    "print(process.extract('italian', unique_types, limit = len(unique_types)))"
   ]
  },
  {
   "cell_type": "markdown",
   "metadata": {},
   "source": [
    "Generating pairs of restaurants"
   ]
  },
  {
   "cell_type": "code",
   "execution_count": 138,
   "metadata": {},
   "outputs": [],
   "source": [
    "import pandas as pd\n",
    "import recordlinkage\n",
    "\n",
    "restaurants = pd.read_csv('files/restaurants.csv')\n",
    "restaurants_new = pd.read_csv('files/restaurants_dirty.csv')\n",
    "\n",
    "# Create an indexer and object and find possible pairs\n",
    "indexer = recordlinkage.Index()\n",
    "\n",
    "# Block pairing on cuisine_type\n",
    "indexer.block('cuisine_type')\n",
    "\n",
    "# Generate pairs\n",
    "pairs = indexer.index(restaurants, restaurants_new)"
   ]
  },
  {
   "cell_type": "markdown",
   "metadata": {},
   "source": [
    "Instantiating a comparison object"
   ]
  },
  {
   "cell_type": "code",
   "execution_count": 139,
   "metadata": {},
   "outputs": [],
   "source": [
    "# Create a comparison object\n",
    "comp_cl = recordlinkage.Compare()"
   ]
  },
  {
   "cell_type": "code",
   "execution_count": 140,
   "metadata": {},
   "outputs": [
    {
     "ename": "NameError",
     "evalue": "name 'potential_matches' is not defined",
     "output_type": "error",
     "traceback": [
      "\u001b[0;31m---------------------------------------------------------------------------\u001b[0m",
      "\u001b[0;31mNameError\u001b[0m                                 Traceback (most recent call last)",
      "Cell \u001b[0;32mIn [140], line 2\u001b[0m\n\u001b[1;32m      1\u001b[0m \u001b[39m# Isolate potential matches with row sum >=3\u001b[39;00m\n\u001b[0;32m----> 2\u001b[0m matches \u001b[39m=\u001b[39m potential_matches[potential_matches\u001b[39m.\u001b[39msum(axis \u001b[39m=\u001b[39m \u001b[39m1\u001b[39m) \u001b[39m>\u001b[39m\u001b[39m=\u001b[39m \u001b[39m3\u001b[39m]\n\u001b[1;32m      4\u001b[0m \u001b[39m# Get values of second column index of matches\u001b[39;00m\n\u001b[1;32m      5\u001b[0m matching_indices \u001b[39m=\u001b[39m matches\u001b[39m.\u001b[39mindex\u001b[39m.\u001b[39mget_level_values(\u001b[39m1\u001b[39m)\n",
      "\u001b[0;31mNameError\u001b[0m: name 'potential_matches' is not defined"
     ]
    }
   ],
   "source": [
    "# Isolate potential matches with row sum >=3\n",
    "matches = potential_matches[potential_matches.sum(axis = 1) >= 3]\n",
    "\n",
    "# Get values of second column index of matches\n",
    "matching_indices = matches.index.get_level_values(1)\n",
    "\n",
    "# Subset restaurants_new based on non-duplicate values\n",
    "non_dup = restaurants_new[~restaurants_new.index.isin(matching_indices)]\n",
    "\n",
    "# Append non_dup to restaurants\n",
    "full_restaurants = restaurants.append(non_dup)\n",
    "print(full_restaurants)"
   ]
  }
 ],
 "metadata": {
  "kernelspec": {
   "display_name": "Python 3.10.8 ('python-blog')",
   "language": "python",
   "name": "python3"
  },
  "language_info": {
   "codemirror_mode": {
    "name": "ipython",
    "version": 3
   },
   "file_extension": ".py",
   "mimetype": "text/x-python",
   "name": "python",
   "nbconvert_exporter": "python",
   "pygments_lexer": "ipython3",
   "version": "3.10.8"
  },
  "orig_nbformat": 4,
  "vscode": {
   "interpreter": {
    "hash": "061725177886a9677e3a2a695f8172d3e706f5edc71bd44f5c76072fa8e81884"
   }
  }
 },
 "nbformat": 4,
 "nbformat_minor": 2
}
