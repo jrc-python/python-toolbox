{
 "cells": [
  {
   "cell_type": "markdown",
   "id": "cba684d9",
   "metadata": {},
   "source": [
    "# Variables and types"
   ]
  },
  {
   "cell_type": "code",
   "execution_count": 9,
   "id": "56463b46",
   "metadata": {},
   "outputs": [
    {
     "data": {
      "text/plain": [
       "[float, int, str, bool]"
      ]
     },
     "execution_count": 9,
     "metadata": {},
     "output_type": "execute_result"
    }
   ],
   "source": [
    "# float - real numbers\n",
    "my_float = 1.8\n",
    "\n",
    "# int - integer numbers\n",
    "my_int = 3\n",
    "\n",
    "# str - string (text)\n",
    "my_str = 'A text'\n",
    "\n",
    "# bool - True or False\n",
    "my_bool = True\n",
    "\n",
    "types = [type(my_float), type(my_int), type(my_str), type(my_bool)]\n",
    "types"
   ]
  },
  {
   "cell_type": "markdown",
   "id": "2bc9f45b",
   "metadata": {},
   "source": [
    "# Lists"
   ]
  },
  {
   "cell_type": "code",
   "execution_count": 16,
   "id": "cc926d87",
   "metadata": {},
   "outputs": [
    {
     "data": {
      "text/plain": [
       "list"
      ]
     },
     "execution_count": 16,
     "metadata": {},
     "output_type": "execute_result"
    }
   ],
   "source": [
    "family = [\"liz\", 1.73, \"emma\", 1.68, \"mom\", 1.71, \"dad\", 1.89]\n",
    "\n",
    "type(family)"
   ]
  },
  {
   "cell_type": "markdown",
   "id": "ae970dd9",
   "metadata": {},
   "source": [
    "## List of lists"
   ]
  },
  {
   "cell_type": "code",
   "execution_count": 17,
   "id": "e337e9bc",
   "metadata": {},
   "outputs": [
    {
     "data": {
      "text/plain": [
       "[['liz', 1.73], ['emma', 1.68], ['mom', 1.71], ['dad', 1.89]]"
      ]
     },
     "execution_count": 17,
     "metadata": {},
     "output_type": "execute_result"
    }
   ],
   "source": [
    "fam2 = [\n",
    "    [\"liz\", 1.73],\n",
    "    [\"emma\", 1.68],\n",
    "    [\"mom\", 1.71],\n",
    "    [\"dad\", 1.89]\n",
    "]\n",
    "\n",
    "fam2"
   ]
  },
  {
   "cell_type": "markdown",
   "id": "4f190da8",
   "metadata": {},
   "source": [
    "## Subsetting lists"
   ]
  },
  {
   "cell_type": "code",
   "execution_count": 45,
   "id": "2ce8c1da",
   "metadata": {},
   "outputs": [
    {
     "name": "stdout",
     "output_type": "stream",
     "text": [
      "Index 3 is 1.68\n",
      "Last index is 1.89\n"
     ]
    }
   ],
   "source": [
    "family = [\"liz\", 1.73, \"emma\", 1.68, \"mom\", 1.71, \"dad\", 1.89]\n",
    "\n",
    "# First index is 0\n",
    "print(\"Index 3 is\", family[3])\n",
    "print(\"Last index is\", family[-1])"
   ]
  },
  {
   "cell_type": "markdown",
   "id": "ec8ac5db",
   "metadata": {},
   "source": [
    "## List slicing\n",
    "\n",
    "[start : end]\n",
    "\n",
    "| start | end |\n",
    "| --- | --- |\n",
    "| inclusive | exclusive |"
   ]
  },
  {
   "cell_type": "code",
   "execution_count": 26,
   "id": "1a49a456",
   "metadata": {},
   "outputs": [
    {
     "name": "stdout",
     "output_type": "stream",
     "text": [
      "[1.68, 'mom']\n",
      "[1.73, 'emma', 1.68]\n",
      "['liz', 1.73, 'emma', 1.68]\n",
      "[1.71, 'dad', 1.89]\n"
     ]
    }
   ],
   "source": [
    "print(family[3:5])\n",
    "print(family[1:4])\n",
    "print(family[:4])\n",
    "print(family[5:])"
   ]
  },
  {
   "cell_type": "markdown",
   "id": "861fb0f4",
   "metadata": {},
   "source": [
    "## Manipulating lists\n",
    "\n",
    "### Changing list elements"
   ]
  },
  {
   "cell_type": "code",
   "execution_count": 31,
   "id": "b45d78a5",
   "metadata": {},
   "outputs": [
    {
     "name": "stdout",
     "output_type": "stream",
     "text": [
      "['liz', 1.73, 'emma', 1.68, 'mom', 1.71, 'dad', 1.89]\n"
     ]
    },
    {
     "data": {
      "text/plain": [
       "['lisa', 1.74, 'emma', 1.68, 'mom', 1.71, 'dad', 1.86]"
      ]
     },
     "execution_count": 31,
     "metadata": {},
     "output_type": "execute_result"
    }
   ],
   "source": [
    "family = [\"liz\", 1.73, \"emma\", 1.68, \"mom\", 1.71, \"dad\", 1.89]\n",
    "\n",
    "print(family)\n",
    "\n",
    "family[7] = 1.86\n",
    "family[0:2] = [\"lisa\", 1.74]\n",
    "\n",
    "family"
   ]
  },
  {
   "cell_type": "markdown",
   "id": "9d66feb4",
   "metadata": {},
   "source": [
    "### Adding and removing elements"
   ]
  },
  {
   "cell_type": "code",
   "execution_count": 35,
   "id": "5363fb2b",
   "metadata": {},
   "outputs": [
    {
     "name": "stdout",
     "output_type": "stream",
     "text": [
      "['lisa', 1.74, 'dad', 1.86, 'me', 1.79]\n",
      "['lisa', 1.74, 'dad', 1.86, 'me', 1.79, 'me', 1.79]\n"
     ]
    }
   ],
   "source": [
    "del(family[2:3])\n",
    "print(family)\n",
    "\n",
    "family = family + [\"me\", 1.79]\n",
    "print(family)"
   ]
  },
  {
   "cell_type": "markdown",
   "id": "dae51f2b",
   "metadata": {},
   "source": [
    "# Functions and Packages\n",
    "\n",
    "## Functions"
   ]
  },
  {
   "cell_type": "code",
   "execution_count": 43,
   "id": "0a3fe02a",
   "metadata": {},
   "outputs": [
    {
     "name": "stdout",
     "output_type": "stream",
     "text": [
      "Max value is  1.89\n",
      "Rounded 1.68 with 1 digit is 1.7\n",
      "Rounded 1.68 with default digit (0) is 2\n"
     ]
    }
   ],
   "source": [
    "family = [1.73, 1.68, 1.71, 1.89]\n",
    "print(\"Max value is \", max(family))\n",
    "print(\"Rounded 1.68 with 1 digit is\", round(1.68, 1))\n",
    "print(\"Rounded 1.68 with default digit (0) is\", round(1.68))"
   ]
  },
  {
   "cell_type": "markdown",
   "id": "487f93d5",
   "metadata": {},
   "source": [
    "## Methods\n",
    "\n",
    "Everything is an object in Python. Objects have methods. Methods are functions that belong to objects.\n",
    "\n",
    "List methods"
   ]
  },
  {
   "cell_type": "code",
   "execution_count": 44,
   "id": "653e8391",
   "metadata": {},
   "outputs": [
    {
     "name": "stdout",
     "output_type": "stream",
     "text": [
      "Index of 'mom' is 4\n",
      "Count of 1.73 is 1\n"
     ]
    }
   ],
   "source": [
    "family = ['liz', 1.73, 'emma', 1.68, 'mom', 1.71, 'dad', 1.89]\n",
    "\n",
    "print(\"Index of 'mom' is\", family.index(\"mom\"))\n",
    "print(\"Count of 1.73 is\", family.count(1.73))\n"
   ]
  },
  {
   "cell_type": "markdown",
   "id": "f3930ed7",
   "metadata": {},
   "source": [
    "String methods"
   ]
  },
  {
   "cell_type": "code",
   "execution_count": 47,
   "id": "910fa9a1",
   "metadata": {},
   "outputs": [
    {
     "name": "stdout",
     "output_type": "stream",
     "text": [
      "Liz\n",
      "lisa\n"
     ]
    }
   ],
   "source": [
    "sister = 'liz'\n",
    "print(sister.capitalize())\n",
    "print(sister.replace(\"z\", \"sa\"))"
   ]
  },
  {
   "cell_type": "markdown",
   "id": "461f8a6c",
   "metadata": {},
   "source": [
    "## Packages\n",
    "\n",
    "Examples of packages available in Python:\n",
    "* NumPy\n",
    "* Matplotlib\n",
    "* scikit-learn"
   ]
  },
  {
   "cell_type": "code",
   "execution_count": 1,
   "id": "499bcc3b",
   "metadata": {},
   "outputs": [
    {
     "data": {
      "text/plain": [
       "array([1, 2, 3])"
      ]
     },
     "execution_count": 1,
     "metadata": {},
     "output_type": "execute_result"
    }
   ],
   "source": [
    "import numpy\n",
    "\n",
    "numpy.array([1, 2, 3])"
   ]
  },
  {
   "cell_type": "code",
   "execution_count": 2,
   "id": "d85637f0",
   "metadata": {},
   "outputs": [
    {
     "data": {
      "text/plain": [
       "array([1, 2, 3])"
      ]
     },
     "execution_count": 2,
     "metadata": {},
     "output_type": "execute_result"
    }
   ],
   "source": [
    "import numpy as np\n",
    "\n",
    "np.array([1, 2, 3])"
   ]
  },
  {
   "cell_type": "code",
   "execution_count": 3,
   "id": "f1365cd3",
   "metadata": {},
   "outputs": [
    {
     "data": {
      "text/plain": [
       "array([1, 2, 3])"
      ]
     },
     "execution_count": 3,
     "metadata": {},
     "output_type": "execute_result"
    }
   ],
   "source": [
    "from numpy import array\n",
    "\n",
    "array([1, 2, 3])"
   ]
  },
  {
   "cell_type": "markdown",
   "id": "2ae26689",
   "metadata": {},
   "source": [
    "# Numpy\n",
    "\n",
    "## Introduction\n",
    "\n",
    "Better than lists for numerical data. Numpy arrays are faster and more compact than lists.\n",
    "* Mathematical operations over collections\n",
    "* Speed\n",
    "\n",
    "Problem: limits of lists"
   ]
  },
  {
   "cell_type": "code",
   "execution_count": 4,
   "id": "b2ee21ab",
   "metadata": {},
   "outputs": [
    {
     "ename": "TypeError",
     "evalue": "unsupported operand type(s) for ** or pow(): 'list' and 'int'",
     "output_type": "error",
     "traceback": [
      "\u001b[0;31m---------------------------------------------------------------------------\u001b[0m",
      "\u001b[0;31mTypeError\u001b[0m                                 Traceback (most recent call last)",
      "Input \u001b[0;32mIn [4]\u001b[0m, in \u001b[0;36m<cell line: 3>\u001b[0;34m()\u001b[0m\n\u001b[1;32m      1\u001b[0m height \u001b[38;5;241m=\u001b[39m [\u001b[38;5;241m1.73\u001b[39m, \u001b[38;5;241m1.68\u001b[39m, \u001b[38;5;241m1.71\u001b[39m, \u001b[38;5;241m1.89\u001b[39m, \u001b[38;5;241m1.79\u001b[39m]\n\u001b[1;32m      2\u001b[0m weight \u001b[38;5;241m=\u001b[39m [\u001b[38;5;241m65.4\u001b[39m, \u001b[38;5;241m59.2\u001b[39m, \u001b[38;5;241m63.6\u001b[39m, \u001b[38;5;241m88.4\u001b[39m, \u001b[38;5;241m68.7\u001b[39m]\n\u001b[0;32m----> 3\u001b[0m weight \u001b[38;5;241m/\u001b[39m \u001b[43mheight\u001b[49m\u001b[43m \u001b[49m\u001b[38;5;241;43m*\u001b[39;49m\u001b[38;5;241;43m*\u001b[39;49m\u001b[43m \u001b[49m\u001b[38;5;241;43m2\u001b[39;49m\n",
      "\u001b[0;31mTypeError\u001b[0m: unsupported operand type(s) for ** or pow(): 'list' and 'int'"
     ]
    }
   ],
   "source": [
    "height = [1.73, 1.68, 1.71, 1.89, 1.79]\n",
    "weight = [65.4, 59.2, 63.6, 88.4, 68.7]\n",
    "weight / height ** 2 # Error"
   ]
  },
  {
   "cell_type": "markdown",
   "id": "0d960250",
   "metadata": {},
   "source": [
    "Solution:NumPy\n",
    "* Numeric Python\n",
    "* Alternative to Python List: NumPy Array\n",
    "* Calculations over entire arrays\n",
    "* Easy and Fast\n",
    "* Installation\n",
    "  * `pip3 install numpy`"
   ]
  },
  {
   "cell_type": "code",
   "execution_count": 8,
   "id": "10e8cf50",
   "metadata": {},
   "outputs": [
    {
     "data": {
      "text/plain": [
       "array([21.85171573, 20.97505669, 21.75028214, 24.7473475 , 21.44127836])"
      ]
     },
     "execution_count": 8,
     "metadata": {},
     "output_type": "execute_result"
    }
   ],
   "source": [
    "import numpy as np\n",
    "\n",
    "height = [1.73, 1.68, 1.71, 1.89, 1.79]\n",
    "weight = [65.4, 59.2, 63.6, 88.4, 68.7]\n",
    "\n",
    "np_height = np.array(height)\n",
    "np_weight = np.array(weight)\n",
    "\n",
    "bmi = np_weight / np_height ** 2\n",
    "\n",
    "bmi"
   ]
  },
  {
   "cell_type": "markdown",
   "id": "8e182b1f",
   "metadata": {},
   "source": [
    "Different types, different behavior"
   ]
  },
  {
   "cell_type": "code",
   "execution_count": 10,
   "id": "7d6f28d0",
   "metadata": {},
   "outputs": [
    {
     "name": "stdout",
     "output_type": "stream",
     "text": [
      "[1, 2, 3, 1, 2, 3]\n",
      "[2 4 6]\n"
     ]
    }
   ],
   "source": [
    "python_list = [1, 2, 3]\n",
    "numpy_array = np.array([1, 2, 3])\n",
    "\n",
    "print(python_list + python_list)\n",
    "print(numpy_array + numpy_array)"
   ]
  },
  {
   "cell_type": "markdown",
   "id": "960e6621",
   "metadata": {},
   "source": [
    "## NumPy subsetting"
   ]
  },
  {
   "cell_type": "code",
   "execution_count": 11,
   "id": "77fdfaed",
   "metadata": {},
   "outputs": [
    {
     "name": "stdout",
     "output_type": "stream",
     "text": [
      "20.97505669\n",
      "[False False False  True False]\n",
      "[24.7473475]\n"
     ]
    }
   ],
   "source": [
    "bmi = array([21.85171573, 20.97505669, 21.75028214, 24.7473475 , 21.44127836])\n",
    "\n",
    "print(bmi[1])\n",
    "print(bmi > 23)\n",
    "print(bmi[bmi > 23])"
   ]
  },
  {
   "cell_type": "markdown",
   "id": "c4be0c23",
   "metadata": {},
   "source": [
    "## 2D Numpy Arrays\n",
    "\n",
    "Types of NumPy arrays"
   ]
  },
  {
   "cell_type": "code",
   "execution_count": 12,
   "id": "894cd6e2",
   "metadata": {},
   "outputs": [
    {
     "data": {
      "text/plain": [
       "numpy.ndarray"
      ]
     },
     "execution_count": 12,
     "metadata": {},
     "output_type": "execute_result"
    }
   ],
   "source": [
    "import numpy as np\n",
    "\n",
    "np_height = np.array([1.73, 1.68, 1.71, 1.89, 1.79])\n",
    "\n",
    "type(np_height)"
   ]
  },
  {
   "cell_type": "markdown",
   "id": "ac3cb7c1",
   "metadata": {},
   "source": [
    "2D NumPy Arrays"
   ]
  },
  {
   "cell_type": "code",
   "execution_count": 13,
   "id": "8eac2232",
   "metadata": {},
   "outputs": [
    {
     "data": {
      "text/plain": [
       "(2, 5)"
      ]
     },
     "execution_count": 13,
     "metadata": {},
     "output_type": "execute_result"
    }
   ],
   "source": [
    "np_2d = np.array([\n",
    "    [1.73, 1.68, 1.71, 1.89, 1.79],\n",
    "    [65.4, 59.2, 63.6, 88.4, 68.7]\n",
    "])\n",
    "\n",
    "np_2d.shape"
   ]
  },
  {
   "cell_type": "markdown",
   "id": "21a7fc68",
   "metadata": {},
   "source": [
    "Subsetting"
   ]
  },
  {
   "cell_type": "code",
   "execution_count": 17,
   "id": "1cb023ed",
   "metadata": {},
   "outputs": [
    {
     "name": "stdout",
     "output_type": "stream",
     "text": [
      "[1.73 1.68 1.71 1.89 1.79]\n",
      "1.71\n",
      "1.71\n",
      "[[ 1.68  1.71]\n",
      " [59.2  63.6 ]]\n",
      "[65.4 59.2 63.6 88.4 68.7]\n"
     ]
    }
   ],
   "source": [
    "print(np_2d[0])\n",
    "\n",
    "print(np_2d[0][2])\n",
    "\n",
    "print(np_2d[0, 2])\n",
    "\n",
    "print(np_2d[:, 1:3])\n",
    "\n",
    "print(np_2d[1, :])"
   ]
  },
  {
   "cell_type": "markdown",
   "id": "935c0067",
   "metadata": {},
   "source": [
    "## Numpy: Basic Statistics\n",
    "\n",
    "City-wide survey"
   ]
  },
  {
   "cell_type": "code",
   "execution_count": 27,
   "id": "6e378b01",
   "metadata": {},
   "outputs": [],
   "source": [
    "import numpy as np\n",
    "\n",
    "np_city = np.array([\n",
    "    [1.64, 71.78],\n",
    "    [1.37, 63.35],\n",
    "    [1.6 , 55.09],\n",
    "    [2.04, 74.85],\n",
    "    [2.04, 68.72],\n",
    "    [2.01, 73.57]\n",
    "])"
   ]
  },
  {
   "cell_type": "code",
   "execution_count": 26,
   "id": "76062dbc",
   "metadata": {},
   "outputs": [
    {
     "data": {
      "text/plain": [
       "1.7833333333333332"
      ]
     },
     "execution_count": 26,
     "metadata": {},
     "output_type": "execute_result"
    }
   ],
   "source": [
    "np.mean(np_city[:, 0])"
   ]
  },
  {
   "cell_type": "code",
   "execution_count": 28,
   "id": "92eda87b",
   "metadata": {},
   "outputs": [
    {
     "data": {
      "text/plain": [
       "1.8249999999999997"
      ]
     },
     "execution_count": 28,
     "metadata": {},
     "output_type": "execute_result"
    }
   ],
   "source": [
    "np.median(np_city[:, 0])"
   ]
  },
  {
   "cell_type": "code",
   "execution_count": 22,
   "id": "342ff66e",
   "metadata": {},
   "outputs": [
    {
     "data": {
      "text/plain": [
       "array([[1.        , 0.64924262],\n",
       "       [0.64924262, 1.        ]])"
      ]
     },
     "execution_count": 22,
     "metadata": {},
     "output_type": "execute_result"
    }
   ],
   "source": [
    "np.corrcoef(np_city[:, 0], np_city[:, 1])"
   ]
  },
  {
   "cell_type": "code",
   "execution_count": 24,
   "id": "8afca7bb",
   "metadata": {},
   "outputs": [
    {
     "data": {
      "text/plain": [
       "0.2608107018935807"
      ]
     },
     "execution_count": 24,
     "metadata": {},
     "output_type": "execute_result"
    }
   ],
   "source": [
    "np.std(np_city[:, 0])"
   ]
  },
  {
   "cell_type": "markdown",
   "id": "1ef0ce7d",
   "metadata": {},
   "source": [
    "## Generate data\n",
    "\n",
    "Arguments for np.random.normal()\n",
    "* distribution mean\n",
    "* distribution standard deviation\n",
    "* number of samples"
   ]
  },
  {
   "cell_type": "code",
   "execution_count": 30,
   "id": "c4645f6a",
   "metadata": {},
   "outputs": [
    {
     "data": {
      "text/plain": [
       "array([[ 1.75, 49.06],\n",
       "       [ 1.93, 64.  ],\n",
       "       [ 1.9 , 91.82],\n",
       "       ...,\n",
       "       [ 1.79, 65.41],\n",
       "       [ 1.61, 37.11],\n",
       "       [ 1.72, 61.42]])"
      ]
     },
     "execution_count": 30,
     "metadata": {},
     "output_type": "execute_result"
    }
   ],
   "source": [
    "height = np.round(np.random.normal(1.75, 0.20, 5000), 2)\n",
    "weight = np.round(np.random.normal(60.32, 15, 5000), 2)\n",
    "np_city = np.column_stack((height, weight))\n",
    "\n",
    "np_city"
   ]
  },
  {
   "cell_type": "code",
   "execution_count": 32,
   "id": "9271047d",
   "metadata": {},
   "outputs": [
    {
     "data": {
      "text/plain": [
       "(5000, 2)"
      ]
     },
     "execution_count": 32,
     "metadata": {},
     "output_type": "execute_result"
    }
   ],
   "source": [
    "np_city.shape"
   ]
  }
 ],
 "metadata": {
  "kernelspec": {
   "display_name": "Python 3 (ipykernel)",
   "language": "python",
   "name": "python3"
  },
  "language_info": {
   "codemirror_mode": {
    "name": "ipython",
    "version": 3
   },
   "file_extension": ".py",
   "mimetype": "text/x-python",
   "name": "python",
   "nbconvert_exporter": "python",
   "pygments_lexer": "ipython3",
   "version": "3.9.7"
  }
 },
 "nbformat": 4,
 "nbformat_minor": 5
}
