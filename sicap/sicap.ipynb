{
 "cells": [
  {
   "cell_type": "code",
   "execution_count": 49,
   "metadata": {},
   "outputs": [
    {
     "data": {
      "text/plain": [
       "0-17       0\n",
       "18-29     40\n",
       "30-39    515\n",
       "40-49    886\n",
       "50-59    860\n",
       "60-69    300\n",
       "70-74     14\n",
       "75+        0\n",
       "Name: age_range, dtype: int64"
      ]
     },
     "execution_count": 49,
     "metadata": {},
     "output_type": "execute_result"
    },
    {
     "data": {
      "image/png": "[encoded data removed]",
      "text/plain": [
       "<Figure size 640x480 with 1 Axes>"
      ]
     },
     "metadata": {},
     "output_type": "display_data"
    }
   ],
   "source": [
    "from os import getenv\n",
    "from datetime import date\n",
    "\n",
    "import pandas as pd\n",
    "import numpy as np\n",
    "import matplotlib.pyplot as plt\n",
    "from dotenv import load_dotenv\n",
    "from sqlalchemy import create_engine\n",
    "\n",
    "load_dotenv()\n",
    "\n",
    "database_url = getenv('DATABASE_URL')\n",
    "\n",
    "sql = \"\"\"\n",
    "SELECT\n",
    "    elemento.nome,\n",
    "    funcionario.rg,\n",
    "    funcionario.\"novoCPF\" as cpf,\n",
    "    funcionario.\"dataNascimento\" as birth_date,\n",
    "    funcionario.idade as current_age,\n",
    "\n",
    "    cargo.sigla as cargo,\n",
    "    classe.sigla as classe,\n",
    "\n",
    "    departamento.sigla as departmento,\n",
    "    designacao.sigla as designacao,\n",
    "    exercicio.sigla as exercicio,\n",
    "    setor.sigla as setor\n",
    "\n",
    "FROM funcionarios_funcionario as funcionario\n",
    "INNER JOIN funcionarios_elemento as elemento ON (funcionario.elemento_ptr_id = elemento.id)\n",
    "\n",
    "INNER JOIN funcionarios_cargo as cargo ON (funcionario.cargo_id = cargo.id)\n",
    "INNER JOIN funcionarios_classe as classe ON (funcionario.classe_id = classe.id)\n",
    "\n",
    "LEFT OUTER JOIN funcionarios_departamento as departamento ON (funcionario.departamento_id = departamento.elemento_ptr_id)\n",
    "LEFT OUTER JOIN funcionarios_elemento depto_elt ON (departamento.elemento_ptr_id = depto_elt.id)\n",
    "\n",
    "LEFT OUTER JOIN funcionarios_designacao as designacao ON (funcionario.designacao_id = designacao.elemento_ptr_id)\n",
    "LEFT OUTER JOIN funcionarios_elemento desig_elt ON (designacao.elemento_ptr_id = desig_elt.id)\n",
    "\n",
    "LEFT OUTER JOIN funcionarios_exercicio as exercicio ON (funcionario.exercicio_id = exercicio.elemento_ptr_id)\n",
    "LEFT OUTER JOIN funcionarios_elemento exerc_elt ON (exercicio.elemento_ptr_id = exerc_elt.id)\n",
    "\n",
    "INNER JOIN funcionarios_setor as setor ON (funcionario.setor_id = setor.id)\n",
    "\n",
    "ORDER BY elemento.nome ASC\n",
    "\"\"\"\n",
    "\n",
    "engine = create_engine(database_url)\n",
    "\n",
    "df = pd.read_sql_query(sql, engine)\n",
    "\n",
    "def age(born):\n",
    "    # Convert to datetime if needed\n",
    "    # born = datetime.strptime(born, \"%d/%m/%Y\").date()\n",
    "    \n",
    "    today = date.today()\n",
    "    return today.year - born.year - ((today.month, today.day) < (born.month, born.day))\n",
    "\n",
    "df['age'] = df['birth_date'].apply(age)\n",
    "\n",
    "# outdated_age = df[df['age'] != df['current_age']]\n",
    "# outdated_age[['nome', 'age', 'current_age']]\n",
    "\n",
    "age_ranges = [0, 18, 30, 40, 50, 60, 70, 75, np.inf]\n",
    "age_names = ['0-17', '18-29', '30-39', '40-49', '50-59', '60-69', '70-74', '75+']\n",
    "\n",
    "df['age_range'] = pd.cut(df['age'], bins = age_ranges, labels = age_names)\n",
    "\n",
    "df['age_range'].value_counts(sort=False).plot(kind='bar')\n",
    "\n",
    "df['age_range'].value_counts(sort=False)"
   ]
  }
 ],
 "metadata": {
  "kernelspec": {
   "display_name": "Python 3.10.8 ('python-blog')",
   "language": "python",
   "name": "python3"
  },
  "language_info": {
   "codemirror_mode": {
    "name": "ipython",
    "version": 3
   },
   "file_extension": ".py",
   "mimetype": "text/x-python",
   "name": "python",
   "nbconvert_exporter": "python",
   "pygments_lexer": "ipython3",
   "version": "3.10.8"
  },
  "orig_nbformat": 4,
  "vscode": {
   "interpreter": {
    "hash": "061725177886a9677e3a2a695f8172d3e706f5edc71bd44f5c76072fa8e81884"
   }
  }
 },
 "nbformat": 4,
 "nbformat_minor": 2
}
